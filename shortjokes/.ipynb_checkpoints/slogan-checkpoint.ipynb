{
 "cells": [
  {
   "cell_type": "code",
   "execution_count": 1,
   "id": "8df77503",
   "metadata": {},
   "outputs": [],
   "source": [
    "import torch\n",
    "from transformers import GPT2LMHeadModel, GPT2Tokenizer, TrainingArguments, Trainer, DataCollatorForLanguageModeling\n",
    "from datasets import load_dataset, DatasetDict\n",
    "from datasets import Dataset"
   ]
  },
  {
   "cell_type": "code",
   "execution_count": 2,
   "id": "40cf486c",
   "metadata": {},
   "outputs": [],
   "source": [
    "dataset = load_dataset(\"Khalida1w/funny_quotes\")"
   ]
  },
  {
   "cell_type": "code",
   "execution_count": 3,
   "id": "062b5329",
   "metadata": {},
   "outputs": [],
   "source": [
    "# Chargez votre dataset\n",
    "dataset = load_dataset(\"Khalida1w/funny_quotes\")\n",
    "\n",
    "# Divisez le dataset en ensembles d'entraînement, de validation et de test\n",
    "train_testvalid = dataset['train'].train_test_split(test_size=0.25)\n",
    "\n",
    "# Divisez l'ensemble de test + validation en deux parts égales (test et validation)\n",
    "test_valid = train_testvalid['test'].train_test_split(test_size=0.5)\n",
    "\n",
    "# Créez un nouveau DatasetDict avec les ensembles d'entraînement, de test et de validation\n",
    "dataset_dict = DatasetDict({\n",
    "    'train': train_testvalid['train'],\n",
    "    'test': test_valid['test'],\n",
    "    'val': test_valid['train']\n",
    "})\n"
   ]
  },
  {
   "cell_type": "code",
   "execution_count": 4,
   "id": "dadd4364",
   "metadata": {},
   "outputs": [
    {
     "data": {
      "text/plain": [
       "DatasetDict({\n",
       "    train: Dataset({\n",
       "        features: ['quote', 'author', 'tags'],\n",
       "        num_rows: 2133\n",
       "    })\n",
       "    test: Dataset({\n",
       "        features: ['quote', 'author', 'tags'],\n",
       "        num_rows: 356\n",
       "    })\n",
       "    val: Dataset({\n",
       "        features: ['quote', 'author', 'tags'],\n",
       "        num_rows: 356\n",
       "    })\n",
       "})"
      ]
     },
     "execution_count": 4,
     "metadata": {},
     "output_type": "execute_result"
    }
   ],
   "source": [
    "dataset_dict"
   ]
  },
  {
   "cell_type": "code",
   "execution_count": 5,
   "id": "aff4c51e",
   "metadata": {},
   "outputs": [],
   "source": [
    "# Tokenizer\n",
    "\n",
    "tokenizer = GPT2Tokenizer.from_pretrained(\"gpt2\")\n",
    "\n",
    "tokenizer.pad_token = tokenizer.eos_token\n"
   ]
  },
  {
   "cell_type": "code",
   "execution_count": 6,
   "id": "f338ad5f",
   "metadata": {},
   "outputs": [
    {
     "data": {
      "text/plain": [
       "DatasetDict({\n",
       "    train: Dataset({\n",
       "        features: ['quote', 'author', 'tags'],\n",
       "        num_rows: 2133\n",
       "    })\n",
       "    test: Dataset({\n",
       "        features: ['quote', 'author', 'tags'],\n",
       "        num_rows: 356\n",
       "    })\n",
       "    val: Dataset({\n",
       "        features: ['quote', 'author', 'tags'],\n",
       "        num_rows: 356\n",
       "    })\n",
       "})"
      ]
     },
     "execution_count": 6,
     "metadata": {},
     "output_type": "execute_result"
    }
   ],
   "source": [
    "dataset_dict"
   ]
  },
  {
   "cell_type": "code",
   "execution_count": 23,
   "id": "67faedf1",
   "metadata": {},
   "outputs": [],
   "source": [
    "max_seq_length = 80"
   ]
  },
  {
   "cell_type": "code",
   "execution_count": 7,
   "id": "2aa1d1ef",
   "metadata": {
    "scrolled": true
   },
   "outputs": [
    {
     "data": {
      "application/vnd.jupyter.widget-view+json": {
       "model_id": "ce2948691f7c4f92af701225c873afa0",
       "version_major": 2,
       "version_minor": 0
      },
      "text/plain": [
       "Map:   0%|          | 0/2133 [00:00<?, ? examples/s]"
      ]
     },
     "metadata": {},
     "output_type": "display_data"
    },
    {
     "data": {
      "application/vnd.jupyter.widget-view+json": {
       "model_id": "9d5b81d49e0f4fdaad56ff14e875a8b6",
       "version_major": 2,
       "version_minor": 0
      },
      "text/plain": [
       "Map:   0%|          | 0/356 [00:00<?, ? examples/s]"
      ]
     },
     "metadata": {},
     "output_type": "display_data"
    },
    {
     "data": {
      "application/vnd.jupyter.widget-view+json": {
       "model_id": "32e6134e6e324cde83da8f6e23bae045",
       "version_major": 2,
       "version_minor": 0
      },
      "text/plain": [
       "Map:   0%|          | 0/356 [00:00<?, ? examples/s]"
      ]
     },
     "metadata": {},
     "output_type": "display_data"
    }
   ],
   "source": [
    "# Tokenization 1\n",
    "\n",
    "tokenized_dataset = dataset_dict.map(lambda examples: tokenizer(examples[\"quote\"], padding=True, max_length=max_seq_length,truncation=True),batched=True)"
   ]
  },
  {
   "cell_type": "markdown",
   "id": "c62c8788",
   "metadata": {},
   "source": [
    "tokenized_dataset=tokenized_dataset.rename_columns({\"tags\":\"labels\"})"
   ]
  },
  {
   "cell_type": "code",
   "execution_count": 8,
   "id": "4a8dbfb8",
   "metadata": {},
   "outputs": [],
   "source": [
    "model = GPT2LMHeadModel.from_pretrained(\"gpt2\")"
   ]
  },
  {
   "cell_type": "code",
   "execution_count": 9,
   "id": "a5489eca",
   "metadata": {},
   "outputs": [],
   "source": [
    "data_collator = DataCollatorForLanguageModeling(\n",
    "    tokenizer=tokenizer,\n",
    "    mlm=False\n",
    ")"
   ]
  },
  {
   "cell_type": "code",
   "execution_count": 10,
   "id": "726871ad",
   "metadata": {},
   "outputs": [],
   "source": [
    "training_args = TrainingArguments(\n",
    "    per_device_train_batch_size=16,\n",
    "    learning_rate=0.0001,\n",
    "    evaluation_strategy=\"steps\",\n",
    "    eval_steps=500,\n",
    "    save_steps=500,\n",
    "    output_dir=\"./quotes_model\",\n",
    "    overwrite_output_dir=True,\n",
    "    save_total_limit=2\n",
    ")"
   ]
  },
  {
   "cell_type": "code",
   "execution_count": 11,
   "id": "5ec79d2e",
   "metadata": {},
   "outputs": [
    {
     "data": {
      "text/plain": [
       "DatasetDict({\n",
       "    train: Dataset({\n",
       "        features: ['quote', 'author', 'tags', 'input_ids', 'attention_mask'],\n",
       "        num_rows: 2133\n",
       "    })\n",
       "    test: Dataset({\n",
       "        features: ['quote', 'author', 'tags', 'input_ids', 'attention_mask'],\n",
       "        num_rows: 356\n",
       "    })\n",
       "    val: Dataset({\n",
       "        features: ['quote', 'author', 'tags', 'input_ids', 'attention_mask'],\n",
       "        num_rows: 356\n",
       "    })\n",
       "})"
      ]
     },
     "execution_count": 11,
     "metadata": {},
     "output_type": "execute_result"
    }
   ],
   "source": [
    "tokenized_dataset"
   ]
  },
  {
   "cell_type": "code",
   "execution_count": 12,
   "id": "a6ddd7fb",
   "metadata": {
    "scrolled": true
   },
   "outputs": [
    {
     "data": {
      "text/html": [
       "\n",
       "    <div>\n",
       "      \n",
       "      <progress value='402' max='402' style='width:300px; height:20px; vertical-align: middle;'></progress>\n",
       "      [402/402 12:54, Epoch 3/3]\n",
       "    </div>\n",
       "    <table border=\"1\" class=\"dataframe\">\n",
       "  <thead>\n",
       " <tr style=\"text-align: left;\">\n",
       "      <th>Step</th>\n",
       "      <th>Training Loss</th>\n",
       "      <th>Validation Loss</th>\n",
       "    </tr>\n",
       "  </thead>\n",
       "  <tbody>\n",
       "  </tbody>\n",
       "</table><p>"
      ],
      "text/plain": [
       "<IPython.core.display.HTML object>"
      ]
     },
     "metadata": {},
     "output_type": "display_data"
    },
    {
     "data": {
      "text/plain": [
       "TrainOutput(global_step=402, training_loss=1.9423117566464552, metrics={'train_runtime': 783.1519, 'train_samples_per_second': 8.171, 'train_steps_per_second': 0.513, 'total_flos': 261251205120000.0, 'train_loss': 1.9423117566464552, 'epoch': 3.0})"
      ]
     },
     "execution_count": 12,
     "metadata": {},
     "output_type": "execute_result"
    }
   ],
   "source": [
    "trainer = Trainer(\n",
    "    model=model,\n",
    "    args=training_args,\n",
    "    train_dataset=tokenized_dataset[\"train\"],\n",
    "    eval_dataset=tokenized_dataset[\"val\"],\n",
    "    data_collator=data_collator\n",
    ")\n",
    "\n",
    "trainer.train()\n"
   ]
  },
  {
   "cell_type": "code",
   "execution_count": 14,
   "id": "9ceb3ea4",
   "metadata": {},
   "outputs": [
    {
     "data": {
      "text/plain": [
       "('quotes_model/tokenizer_config.json',\n",
       " 'quotes_model/special_tokens_map.json',\n",
       " 'quotes_model/vocab.json',\n",
       " 'quotes_model/merges.txt',\n",
       " 'quotes_model/added_tokens.json')"
      ]
     },
     "execution_count": 14,
     "metadata": {},
     "output_type": "execute_result"
    }
   ],
   "source": [
    "tokenizer.save_pretrained(\"quotes_model\")"
   ]
  },
  {
   "cell_type": "code",
   "execution_count": 15,
   "id": "b5f6ab90",
   "metadata": {},
   "outputs": [],
   "source": [
    "model.save_pretrained(\"quotes_model\")"
   ]
  },
  {
   "cell_type": "code",
   "execution_count": 31,
   "id": "7942d739",
   "metadata": {},
   "outputs": [
    {
     "data": {
      "text/html": [
       "\n",
       "    <div>\n",
       "      \n",
       "      <progress value='45' max='45' style='width:300px; height:20px; vertical-align: middle;'></progress>\n",
       "      [45/45 00:13]\n",
       "    </div>\n",
       "    "
      ],
      "text/plain": [
       "<IPython.core.display.HTML object>"
      ]
     },
     "metadata": {},
     "output_type": "display_data"
    }
   ],
   "source": [
    "results = trainer.evaluate(tokenized_dataset[\"test\"])"
   ]
  },
  {
   "cell_type": "code",
   "execution_count": 35,
   "id": "78c80029",
   "metadata": {},
   "outputs": [
    {
     "data": {
      "text/plain": [
       "{'eval_loss': 2.1968119144439697,\n",
       " 'eval_runtime': 15.4743,\n",
       " 'eval_samples_per_second': 23.006,\n",
       " 'eval_steps_per_second': 2.908,\n",
       " 'epoch': 3.0}"
      ]
     },
     "execution_count": 35,
     "metadata": {},
     "output_type": "execute_result"
    }
   ],
   "source": [
    "results"
   ]
  },
  {
   "cell_type": "code",
   "execution_count": 44,
   "id": "959a280d",
   "metadata": {},
   "outputs": [],
   "source": [
    "model_generation = GPT2LMHeadModel.from_pretrained(\"/Users/n_ss/Desktop/joke-try/quotes_model\")"
   ]
  },
  {
   "cell_type": "code",
   "execution_count": 46,
   "id": "636e9efe",
   "metadata": {},
   "outputs": [
    {
     "name": "stderr",
     "output_type": "stream",
     "text": [
      "Special tokens have been added in the vocabulary, make sure the associated word embeddings are fine-tuned or trained.\n"
     ]
    }
   ],
   "source": [
    "tokenizer_generation = GPT2Tokenizer.from_pretrained(\"/Users/n_ss/Desktop/joke-try/quotes_model\")"
   ]
  },
  {
   "cell_type": "code",
   "execution_count": 64,
   "id": "3c262259",
   "metadata": {},
   "outputs": [],
   "source": [
    "prompt=\"  \""
   ]
  },
  {
   "cell_type": "code",
   "execution_count": 69,
   "id": "e6f2f6ed",
   "metadata": {},
   "outputs": [
    {
     "name": "stderr",
     "output_type": "stream",
     "text": [
      "The attention mask and the pad token id were not set. As a consequence, you may observe unexpected behavior. Please pass your input's `attention_mask` to obtain reliable results.\n",
      "Setting `pad_token_id` to `eos_token_id`:50256 for open-end generation.\n"
     ]
    }
   ],
   "source": [
    "# Générez du texte à partir du modèle\n",
    "generated_text = model.generate(\n",
    "    tokenizer.encode(prompt, return_tensors=\"pt\").to(\"mps\"),\n",
    "    max_length=50,  # Longueur maximale du texte généré\n",
    "    num_return_sequences=5,  # Nombre de séquences générées\n",
    "    no_repeat_ngram_size=2,  # Évite les répétitions de n-grammes\n",
    "    do_sample=True\n",
    ")\n",
    "\n",
    "# Obtenez le tenseur du texte généré à partir de la liste\n",
    "generated_text_tensor = generated_text[1]\n",
    "\n",
    "# Décodez le tenseur en texte lisible\n",
    "generated_quote = tokenizer.decode(generated_text_tensor, skip_special_tokens=True)\n"
   ]
  },
  {
   "cell_type": "code",
   "execution_count": 66,
   "id": "750c8b11",
   "metadata": {},
   "outputs": [
    {
     "data": {
      "text/plain": [
       "'  \\xa0I had a dream about you last night. You were in a car with a guy who was trying to sell you a vibrator. I was in the back seat, and he was telling me how much he loved the vibrators he'"
      ]
     },
     "execution_count": 66,
     "metadata": {},
     "output_type": "execute_result"
    }
   ],
   "source": [
    "generated_quote"
   ]
  },
  {
   "cell_type": "code",
   "execution_count": 72,
   "id": "1562330b",
   "metadata": {},
   "outputs": [],
   "source": [
    "\n",
    "# Obtenez le tenseur du texte généré à partir de la liste\n",
    "generated_text_tensor = generated_text[0]\n",
    "\n",
    "# Décodez le tenseur en texte lisible\n",
    "generated_quote = tokenizer.decode(generated_text_tensor, skip_special_tokens=True)\n"
   ]
  },
  {
   "cell_type": "code",
   "execution_count": 73,
   "id": "4529d511",
   "metadata": {},
   "outputs": [
    {
     "data": {
      "text/plain": [
       "\"   What if it's all a dream? That's my idea of inspiration, if you can believe it. I'm a full blown dream girl. And you'd be remiss if not to admit that if I were to be your mom,\""
      ]
     },
     "execution_count": 73,
     "metadata": {},
     "output_type": "execute_result"
    }
   ],
   "source": [
    "generated_quote"
   ]
  },
  {
   "cell_type": "code",
   "execution_count": null,
   "id": "59a43c60",
   "metadata": {},
   "outputs": [],
   "source": []
  }
 ],
 "metadata": {
  "kernelspec": {
   "display_name": "Python 3 (ipykernel)",
   "language": "python",
   "name": "python3"
  },
  "language_info": {
   "codemirror_mode": {
    "name": "ipython",
    "version": 3
   },
   "file_extension": ".py",
   "mimetype": "text/x-python",
   "name": "python",
   "nbconvert_exporter": "python",
   "pygments_lexer": "ipython3",
   "version": "3.10.6"
  },
  "toc": {
   "base_numbering": 1,
   "nav_menu": {},
   "number_sections": true,
   "sideBar": true,
   "skip_h1_title": false,
   "title_cell": "Table of Contents",
   "title_sidebar": "Contents",
   "toc_cell": false,
   "toc_position": {},
   "toc_section_display": true,
   "toc_window_display": false
  }
 },
 "nbformat": 4,
 "nbformat_minor": 5
}
